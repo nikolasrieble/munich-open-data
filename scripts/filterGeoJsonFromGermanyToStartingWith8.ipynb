{
 "cells": [
  {
   "cell_type": "code",
   "execution_count": 1,
   "id": "18fc6d87-a484-461a-bcee-00e1f94dc519",
   "metadata": {},
   "outputs": [],
   "source": [
    "import json"
   ]
  },
  {
   "cell_type": "code",
   "execution_count": 3,
   "id": "51cb2f18-f843-455c-a93a-e4708b61bb7b",
   "metadata": {},
   "outputs": [
    {
     "name": "stdout",
     "output_type": "stream",
     "text": [
      "/Users/nikolasrieble\n"
     ]
    }
   ],
   "source": [
    "! pwd"
   ]
  },
  {
   "cell_type": "code",
   "execution_count": 7,
   "id": "fdba5a19-7a3f-4ecf-ab82-5472aa498267",
   "metadata": {},
   "outputs": [],
   "source": [
    "file = '/Users/nikolasrieble/Downloads/plz-5stellig.geojson'"
   ]
  },
  {
   "cell_type": "code",
   "execution_count": 8,
   "id": "a7f40e3a-3d42-4fb8-8d61-48416f5153b5",
   "metadata": {},
   "outputs": [],
   "source": [
    "with open(file, 'r') as f:\n",
    "    data = json.load(f)"
   ]
  },
  {
   "cell_type": "code",
   "execution_count": 14,
   "id": "24748475-434b-418d-90b1-f3dc8b8f82c3",
   "metadata": {},
   "outputs": [],
   "source": [
    "relevant_areas = [area for area in data['features'] if area['properties']['plz'][0]=='8']"
   ]
  },
  {
   "cell_type": "code",
   "execution_count": 16,
   "id": "78bf020f-1872-4c68-b3aa-e876690c5b2b",
   "metadata": {},
   "outputs": [],
   "source": [
    "data['features']=relevant_areas"
   ]
  },
  {
   "cell_type": "code",
   "execution_count": 17,
   "id": "82970acb-f85e-48ca-9e6e-6cdd89c48ca2",
   "metadata": {},
   "outputs": [],
   "source": [
    "with open('/Users/nikolasrieble/Downloads/filtered_plz-5stellig.geojson', 'w') as f:\n",
    "    json.dump(data, f)"
   ]
  },
  {
   "cell_type": "code",
   "execution_count": null,
   "id": "869233ff-9277-42d5-9edf-ff0e18cd8fe2",
   "metadata": {},
   "outputs": [],
   "source": []
  }
 ],
 "metadata": {
  "kernelspec": {
   "display_name": "Python 3 (ipykernel)",
   "language": "python",
   "name": "python3"
  },
  "language_info": {
   "codemirror_mode": {
    "name": "ipython",
    "version": 3
   },
   "file_extension": ".py",
   "mimetype": "text/x-python",
   "name": "python",
   "nbconvert_exporter": "python",
   "pygments_lexer": "ipython3",
   "version": "3.9.11"
  }
 },
 "nbformat": 4,
 "nbformat_minor": 5
}
